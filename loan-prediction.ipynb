{
 "cells": [
  {
   "cell_type": "code",
   "execution_count": 1,
   "id": "greek-coverage",
   "metadata": {
    "_cell_guid": "b1076dfc-b9ad-4769-8c92-a6c4dae69d19",
    "_uuid": "8f2839f25d086af736a60e9eeb907d3b93b6e0e5",
    "execution": {
     "iopub.execute_input": "2021-05-14T14:49:04.743529Z",
     "iopub.status.busy": "2021-05-14T14:49:04.742373Z",
     "iopub.status.idle": "2021-05-14T14:49:04.763151Z",
     "shell.execute_reply": "2021-05-14T14:49:04.763995Z"
    },
    "papermill": {
     "duration": 0.044068,
     "end_time": "2021-05-14T14:49:04.764451",
     "exception": false,
     "start_time": "2021-05-14T14:49:04.720383",
     "status": "completed"
    },
    "tags": []
   },
   "outputs": [
    {
     "name": "stdout",
     "output_type": "stream",
     "text": [
      "/kaggle/input/loan-prediction-problem-dataset/test_Y3wMUE5_7gLdaTN.csv\n",
      "/kaggle/input/loan-prediction-problem-dataset/train_u6lujuX_CVtuZ9i.csv\n"
     ]
    }
   ],
   "source": [
    "# This Python 3 environment comes with many helpful analytics libraries installed\n",
    "# It is defined by the kaggle/python Docker image: https://github.com/kaggle/docker-python\n",
    "# For example, here's several helpful packages to load\n",
    "\n",
    "import numpy as np # linear algebra\n",
    "import pandas as pd # data processing, CSV file I/O (e.g. pd.read_csv)\n",
    "\n",
    "# Input data files are available in the read-only \"../input/\" directory\n",
    "# For example, running this (by clicking run or pressing Shift+Enter) will list all files under the input directory\n",
    "\n",
    "import os\n",
    "for dirname, _, filenames in os.walk('/kaggle/input'):\n",
    "    for filename in filenames:\n",
    "        print(os.path.join(dirname, filename))\n",
    "\n",
    "# You can write up to 20GB to the current directory (/kaggle/working/) that gets preserved as output when you create a version using \"Save & Run All\" \n",
    "# You can also write temporary files to /kaggle/temp/, but they won't be saved outside of the current session"
   ]
  },
  {
   "cell_type": "code",
   "execution_count": 2,
   "id": "alternate-invite",
   "metadata": {
    "execution": {
     "iopub.execute_input": "2021-05-14T14:49:04.808090Z",
     "iopub.status.busy": "2021-05-14T14:49:04.807467Z",
     "iopub.status.idle": "2021-05-14T14:49:04.836556Z",
     "shell.execute_reply": "2021-05-14T14:49:04.837160Z"
    },
    "papermill": {
     "duration": 0.051261,
     "end_time": "2021-05-14T14:49:04.837356",
     "exception": false,
     "start_time": "2021-05-14T14:49:04.786095",
     "status": "completed"
    },
    "tags": []
   },
   "outputs": [],
   "source": [
    "import pandas as pd \n",
    "import numpy as  np \n",
    "\n",
    "url1='/kaggle/input/loan-prediction-problem-dataset/train_u6lujuX_CVtuZ9i.csv'\n",
    "url2='/kaggle/input/loan-prediction-problem-dataset/test_Y3wMUE5_7gLdaTN.csv'\n",
    "dftrain=pd.read_csv(url1)\n",
    "dftest=pd.read_csv(url2)"
   ]
  },
  {
   "cell_type": "code",
   "execution_count": 3,
   "id": "attached-optimization",
   "metadata": {
    "execution": {
     "iopub.execute_input": "2021-05-14T14:49:04.877726Z",
     "iopub.status.busy": "2021-05-14T14:49:04.877081Z",
     "iopub.status.idle": "2021-05-14T14:49:04.914957Z",
     "shell.execute_reply": "2021-05-14T14:49:04.915420Z"
    },
    "papermill": {
     "duration": 0.059283,
     "end_time": "2021-05-14T14:49:04.915593",
     "exception": false,
     "start_time": "2021-05-14T14:49:04.856310",
     "status": "completed"
    },
    "tags": []
   },
   "outputs": [
    {
     "data": {
      "text/html": [
       "<div>\n",
       "<style scoped>\n",
       "    .dataframe tbody tr th:only-of-type {\n",
       "        vertical-align: middle;\n",
       "    }\n",
       "\n",
       "    .dataframe tbody tr th {\n",
       "        vertical-align: top;\n",
       "    }\n",
       "\n",
       "    .dataframe thead th {\n",
       "        text-align: right;\n",
       "    }\n",
       "</style>\n",
       "<table border=\"1\" class=\"dataframe\">\n",
       "  <thead>\n",
       "    <tr style=\"text-align: right;\">\n",
       "      <th></th>\n",
       "      <th>Loan_ID</th>\n",
       "      <th>Gender</th>\n",
       "      <th>Married</th>\n",
       "      <th>Dependents</th>\n",
       "      <th>Education</th>\n",
       "      <th>Self_Employed</th>\n",
       "      <th>ApplicantIncome</th>\n",
       "      <th>CoapplicantIncome</th>\n",
       "      <th>LoanAmount</th>\n",
       "      <th>Loan_Amount_Term</th>\n",
       "      <th>Credit_History</th>\n",
       "      <th>Property_Area</th>\n",
       "      <th>Loan_Status</th>\n",
       "    </tr>\n",
       "  </thead>\n",
       "  <tbody>\n",
       "    <tr>\n",
       "      <th>0</th>\n",
       "      <td>LP001002</td>\n",
       "      <td>Male</td>\n",
       "      <td>No</td>\n",
       "      <td>0</td>\n",
       "      <td>Graduate</td>\n",
       "      <td>No</td>\n",
       "      <td>5849</td>\n",
       "      <td>0.0</td>\n",
       "      <td>NaN</td>\n",
       "      <td>360.0</td>\n",
       "      <td>1.0</td>\n",
       "      <td>Urban</td>\n",
       "      <td>Y</td>\n",
       "    </tr>\n",
       "    <tr>\n",
       "      <th>1</th>\n",
       "      <td>LP001003</td>\n",
       "      <td>Male</td>\n",
       "      <td>Yes</td>\n",
       "      <td>1</td>\n",
       "      <td>Graduate</td>\n",
       "      <td>No</td>\n",
       "      <td>4583</td>\n",
       "      <td>1508.0</td>\n",
       "      <td>128.0</td>\n",
       "      <td>360.0</td>\n",
       "      <td>1.0</td>\n",
       "      <td>Rural</td>\n",
       "      <td>N</td>\n",
       "    </tr>\n",
       "    <tr>\n",
       "      <th>2</th>\n",
       "      <td>LP001005</td>\n",
       "      <td>Male</td>\n",
       "      <td>Yes</td>\n",
       "      <td>0</td>\n",
       "      <td>Graduate</td>\n",
       "      <td>Yes</td>\n",
       "      <td>3000</td>\n",
       "      <td>0.0</td>\n",
       "      <td>66.0</td>\n",
       "      <td>360.0</td>\n",
       "      <td>1.0</td>\n",
       "      <td>Urban</td>\n",
       "      <td>Y</td>\n",
       "    </tr>\n",
       "    <tr>\n",
       "      <th>3</th>\n",
       "      <td>LP001006</td>\n",
       "      <td>Male</td>\n",
       "      <td>Yes</td>\n",
       "      <td>0</td>\n",
       "      <td>Not Graduate</td>\n",
       "      <td>No</td>\n",
       "      <td>2583</td>\n",
       "      <td>2358.0</td>\n",
       "      <td>120.0</td>\n",
       "      <td>360.0</td>\n",
       "      <td>1.0</td>\n",
       "      <td>Urban</td>\n",
       "      <td>Y</td>\n",
       "    </tr>\n",
       "    <tr>\n",
       "      <th>4</th>\n",
       "      <td>LP001008</td>\n",
       "      <td>Male</td>\n",
       "      <td>No</td>\n",
       "      <td>0</td>\n",
       "      <td>Graduate</td>\n",
       "      <td>No</td>\n",
       "      <td>6000</td>\n",
       "      <td>0.0</td>\n",
       "      <td>141.0</td>\n",
       "      <td>360.0</td>\n",
       "      <td>1.0</td>\n",
       "      <td>Urban</td>\n",
       "      <td>Y</td>\n",
       "    </tr>\n",
       "  </tbody>\n",
       "</table>\n",
       "</div>"
      ],
      "text/plain": [
       "    Loan_ID Gender Married Dependents     Education Self_Employed  \\\n",
       "0  LP001002   Male      No          0      Graduate            No   \n",
       "1  LP001003   Male     Yes          1      Graduate            No   \n",
       "2  LP001005   Male     Yes          0      Graduate           Yes   \n",
       "3  LP001006   Male     Yes          0  Not Graduate            No   \n",
       "4  LP001008   Male      No          0      Graduate            No   \n",
       "\n",
       "   ApplicantIncome  CoapplicantIncome  LoanAmount  Loan_Amount_Term  \\\n",
       "0             5849                0.0         NaN             360.0   \n",
       "1             4583             1508.0       128.0             360.0   \n",
       "2             3000                0.0        66.0             360.0   \n",
       "3             2583             2358.0       120.0             360.0   \n",
       "4             6000                0.0       141.0             360.0   \n",
       "\n",
       "   Credit_History Property_Area Loan_Status  \n",
       "0             1.0         Urban           Y  \n",
       "1             1.0         Rural           N  \n",
       "2             1.0         Urban           Y  \n",
       "3             1.0         Urban           Y  \n",
       "4             1.0         Urban           Y  "
      ]
     },
     "execution_count": 3,
     "metadata": {},
     "output_type": "execute_result"
    }
   ],
   "source": [
    "dftrain.head()"
   ]
  },
  {
   "cell_type": "code",
   "execution_count": 4,
   "id": "parliamentary-jimmy",
   "metadata": {
    "execution": {
     "iopub.execute_input": "2021-05-14T14:49:04.956145Z",
     "iopub.status.busy": "2021-05-14T14:49:04.955533Z",
     "iopub.status.idle": "2021-05-14T14:49:04.973998Z",
     "shell.execute_reply": "2021-05-14T14:49:04.974507Z"
    },
    "papermill": {
     "duration": 0.040273,
     "end_time": "2021-05-14T14:49:04.974678",
     "exception": false,
     "start_time": "2021-05-14T14:49:04.934405",
     "status": "completed"
    },
    "tags": []
   },
   "outputs": [
    {
     "data": {
      "text/html": [
       "<div>\n",
       "<style scoped>\n",
       "    .dataframe tbody tr th:only-of-type {\n",
       "        vertical-align: middle;\n",
       "    }\n",
       "\n",
       "    .dataframe tbody tr th {\n",
       "        vertical-align: top;\n",
       "    }\n",
       "\n",
       "    .dataframe thead th {\n",
       "        text-align: right;\n",
       "    }\n",
       "</style>\n",
       "<table border=\"1\" class=\"dataframe\">\n",
       "  <thead>\n",
       "    <tr style=\"text-align: right;\">\n",
       "      <th></th>\n",
       "      <th>Loan_ID</th>\n",
       "      <th>Gender</th>\n",
       "      <th>Married</th>\n",
       "      <th>Dependents</th>\n",
       "      <th>Education</th>\n",
       "      <th>Self_Employed</th>\n",
       "      <th>ApplicantIncome</th>\n",
       "      <th>CoapplicantIncome</th>\n",
       "      <th>LoanAmount</th>\n",
       "      <th>Loan_Amount_Term</th>\n",
       "      <th>Credit_History</th>\n",
       "      <th>Property_Area</th>\n",
       "    </tr>\n",
       "  </thead>\n",
       "  <tbody>\n",
       "    <tr>\n",
       "      <th>0</th>\n",
       "      <td>LP001015</td>\n",
       "      <td>Male</td>\n",
       "      <td>Yes</td>\n",
       "      <td>0</td>\n",
       "      <td>Graduate</td>\n",
       "      <td>No</td>\n",
       "      <td>5720</td>\n",
       "      <td>0</td>\n",
       "      <td>110.0</td>\n",
       "      <td>360.0</td>\n",
       "      <td>1.0</td>\n",
       "      <td>Urban</td>\n",
       "    </tr>\n",
       "    <tr>\n",
       "      <th>1</th>\n",
       "      <td>LP001022</td>\n",
       "      <td>Male</td>\n",
       "      <td>Yes</td>\n",
       "      <td>1</td>\n",
       "      <td>Graduate</td>\n",
       "      <td>No</td>\n",
       "      <td>3076</td>\n",
       "      <td>1500</td>\n",
       "      <td>126.0</td>\n",
       "      <td>360.0</td>\n",
       "      <td>1.0</td>\n",
       "      <td>Urban</td>\n",
       "    </tr>\n",
       "    <tr>\n",
       "      <th>2</th>\n",
       "      <td>LP001031</td>\n",
       "      <td>Male</td>\n",
       "      <td>Yes</td>\n",
       "      <td>2</td>\n",
       "      <td>Graduate</td>\n",
       "      <td>No</td>\n",
       "      <td>5000</td>\n",
       "      <td>1800</td>\n",
       "      <td>208.0</td>\n",
       "      <td>360.0</td>\n",
       "      <td>1.0</td>\n",
       "      <td>Urban</td>\n",
       "    </tr>\n",
       "    <tr>\n",
       "      <th>3</th>\n",
       "      <td>LP001035</td>\n",
       "      <td>Male</td>\n",
       "      <td>Yes</td>\n",
       "      <td>2</td>\n",
       "      <td>Graduate</td>\n",
       "      <td>No</td>\n",
       "      <td>2340</td>\n",
       "      <td>2546</td>\n",
       "      <td>100.0</td>\n",
       "      <td>360.0</td>\n",
       "      <td>NaN</td>\n",
       "      <td>Urban</td>\n",
       "    </tr>\n",
       "    <tr>\n",
       "      <th>4</th>\n",
       "      <td>LP001051</td>\n",
       "      <td>Male</td>\n",
       "      <td>No</td>\n",
       "      <td>0</td>\n",
       "      <td>Not Graduate</td>\n",
       "      <td>No</td>\n",
       "      <td>3276</td>\n",
       "      <td>0</td>\n",
       "      <td>78.0</td>\n",
       "      <td>360.0</td>\n",
       "      <td>1.0</td>\n",
       "      <td>Urban</td>\n",
       "    </tr>\n",
       "  </tbody>\n",
       "</table>\n",
       "</div>"
      ],
      "text/plain": [
       "    Loan_ID Gender Married Dependents     Education Self_Employed  \\\n",
       "0  LP001015   Male     Yes          0      Graduate            No   \n",
       "1  LP001022   Male     Yes          1      Graduate            No   \n",
       "2  LP001031   Male     Yes          2      Graduate            No   \n",
       "3  LP001035   Male     Yes          2      Graduate            No   \n",
       "4  LP001051   Male      No          0  Not Graduate            No   \n",
       "\n",
       "   ApplicantIncome  CoapplicantIncome  LoanAmount  Loan_Amount_Term  \\\n",
       "0             5720                  0       110.0             360.0   \n",
       "1             3076               1500       126.0             360.0   \n",
       "2             5000               1800       208.0             360.0   \n",
       "3             2340               2546       100.0             360.0   \n",
       "4             3276                  0        78.0             360.0   \n",
       "\n",
       "   Credit_History Property_Area  \n",
       "0             1.0         Urban  \n",
       "1             1.0         Urban  \n",
       "2             1.0         Urban  \n",
       "3             NaN         Urban  \n",
       "4             1.0         Urban  "
      ]
     },
     "execution_count": 4,
     "metadata": {},
     "output_type": "execute_result"
    }
   ],
   "source": [
    "dftest.head()"
   ]
  },
  {
   "cell_type": "code",
   "execution_count": 5,
   "id": "supreme-mambo",
   "metadata": {
    "execution": {
     "iopub.execute_input": "2021-05-14T14:49:05.018568Z",
     "iopub.status.busy": "2021-05-14T14:49:05.017600Z",
     "iopub.status.idle": "2021-05-14T14:49:05.027160Z",
     "shell.execute_reply": "2021-05-14T14:49:05.026546Z"
    },
    "papermill": {
     "duration": 0.031955,
     "end_time": "2021-05-14T14:49:05.027293",
     "exception": false,
     "start_time": "2021-05-14T14:49:04.995338",
     "status": "completed"
    },
    "tags": []
   },
   "outputs": [
    {
     "data": {
      "text/plain": [
       "Loan_ID               0\n",
       "Gender               13\n",
       "Married               3\n",
       "Dependents           15\n",
       "Education             0\n",
       "Self_Employed        32\n",
       "ApplicantIncome       0\n",
       "CoapplicantIncome     0\n",
       "LoanAmount           22\n",
       "Loan_Amount_Term     14\n",
       "Credit_History       50\n",
       "Property_Area         0\n",
       "Loan_Status           0\n",
       "dtype: int64"
      ]
     },
     "execution_count": 5,
     "metadata": {},
     "output_type": "execute_result"
    }
   ],
   "source": [
    "dftrain.isnull().sum()"
   ]
  },
  {
   "cell_type": "code",
   "execution_count": 6,
   "id": "limiting-spoke",
   "metadata": {
    "execution": {
     "iopub.execute_input": "2021-05-14T14:49:05.075411Z",
     "iopub.status.busy": "2021-05-14T14:49:05.074640Z",
     "iopub.status.idle": "2021-05-14T14:49:05.078973Z",
     "shell.execute_reply": "2021-05-14T14:49:05.078478Z"
    },
    "papermill": {
     "duration": 0.031682,
     "end_time": "2021-05-14T14:49:05.079174",
     "exception": false,
     "start_time": "2021-05-14T14:49:05.047492",
     "status": "completed"
    },
    "tags": []
   },
   "outputs": [
    {
     "data": {
      "text/plain": [
       "Loan_ID               0\n",
       "Gender               11\n",
       "Married               0\n",
       "Dependents           10\n",
       "Education             0\n",
       "Self_Employed        23\n",
       "ApplicantIncome       0\n",
       "CoapplicantIncome     0\n",
       "LoanAmount            5\n",
       "Loan_Amount_Term      6\n",
       "Credit_History       29\n",
       "Property_Area         0\n",
       "dtype: int64"
      ]
     },
     "execution_count": 6,
     "metadata": {},
     "output_type": "execute_result"
    }
   ],
   "source": [
    "dftest.isnull().sum()"
   ]
  },
  {
   "cell_type": "code",
   "execution_count": 7,
   "id": "beginning-hobby",
   "metadata": {
    "execution": {
     "iopub.execute_input": "2021-05-14T14:49:05.132579Z",
     "iopub.status.busy": "2021-05-14T14:49:05.131247Z",
     "iopub.status.idle": "2021-05-14T14:49:05.136499Z",
     "shell.execute_reply": "2021-05-14T14:49:05.136999Z"
    },
    "papermill": {
     "duration": 0.037776,
     "end_time": "2021-05-14T14:49:05.137176",
     "exception": false,
     "start_time": "2021-05-14T14:49:05.099400",
     "status": "completed"
    },
    "tags": []
   },
   "outputs": [],
   "source": [
    "#train\n",
    "dftrain['Gender']=dftrain['Gender'].fillna(dftrain['Gender'].mode())\n",
    "dftrain['Married']=dftrain['Married'].fillna(dftrain['Married'].mode())\n",
    "dftrain['Self_Employed']=dftrain['Self_Employed'].fillna(dftrain['Self_Employed'].mode())"
   ]
  },
  {
   "cell_type": "code",
   "execution_count": 8,
   "id": "defined-profile",
   "metadata": {
    "execution": {
     "iopub.execute_input": "2021-05-14T14:49:05.184861Z",
     "iopub.status.busy": "2021-05-14T14:49:05.184198Z",
     "iopub.status.idle": "2021-05-14T14:49:05.191029Z",
     "shell.execute_reply": "2021-05-14T14:49:05.190502Z"
    },
    "papermill": {
     "duration": 0.033553,
     "end_time": "2021-05-14T14:49:05.191163",
     "exception": false,
     "start_time": "2021-05-14T14:49:05.157610",
     "status": "completed"
    },
    "tags": []
   },
   "outputs": [],
   "source": [
    "dftrain['LoanAmount'] = dftrain['LoanAmount'].fillna(dftrain['LoanAmount'].mean())\n",
    "dftrain['Credit_History'] = dftrain['Credit_History'].fillna(dftrain['Credit_History'].median())"
   ]
  },
  {
   "cell_type": "code",
   "execution_count": 9,
   "id": "growing-seven",
   "metadata": {
    "execution": {
     "iopub.execute_input": "2021-05-14T14:49:05.239556Z",
     "iopub.status.busy": "2021-05-14T14:49:05.238847Z",
     "iopub.status.idle": "2021-05-14T14:49:05.259781Z",
     "shell.execute_reply": "2021-05-14T14:49:05.259263Z"
    },
    "papermill": {
     "duration": 0.048357,
     "end_time": "2021-05-14T14:49:05.259948",
     "exception": false,
     "start_time": "2021-05-14T14:49:05.211591",
     "status": "completed"
    },
    "tags": []
   },
   "outputs": [],
   "source": [
    "\n",
    "\n",
    "dftrain.dropna(inplace=True)\n",
    "\n"
   ]
  },
  {
   "cell_type": "code",
   "execution_count": 10,
   "id": "micro-probe",
   "metadata": {
    "execution": {
     "iopub.execute_input": "2021-05-14T14:49:05.310181Z",
     "iopub.status.busy": "2021-05-14T14:49:05.309197Z",
     "iopub.status.idle": "2021-05-14T14:49:05.312031Z",
     "shell.execute_reply": "2021-05-14T14:49:05.312467Z"
    },
    "papermill": {
     "duration": 0.031899,
     "end_time": "2021-05-14T14:49:05.312641",
     "exception": false,
     "start_time": "2021-05-14T14:49:05.280742",
     "status": "completed"
    },
    "tags": []
   },
   "outputs": [],
   "source": [
    "#testing \n",
    "\n",
    "dftest.dropna(inplace=True)"
   ]
  },
  {
   "cell_type": "code",
   "execution_count": 11,
   "id": "comfortable-producer",
   "metadata": {
    "execution": {
     "iopub.execute_input": "2021-05-14T14:49:05.361114Z",
     "iopub.status.busy": "2021-05-14T14:49:05.360363Z",
     "iopub.status.idle": "2021-05-14T14:49:05.362352Z",
     "shell.execute_reply": "2021-05-14T14:49:05.361754Z"
    },
    "papermill": {
     "duration": 0.028998,
     "end_time": "2021-05-14T14:49:05.362482",
     "exception": false,
     "start_time": "2021-05-14T14:49:05.333484",
     "status": "completed"
    },
    "tags": []
   },
   "outputs": [],
   "source": [
    "\n",
    "\n",
    "dftrain.drop('Loan_ID', inplace=True, axis = 1)\n",
    "\n",
    "\n"
   ]
  },
  {
   "cell_type": "code",
   "execution_count": 12,
   "id": "cutting-avatar",
   "metadata": {
    "execution": {
     "iopub.execute_input": "2021-05-14T14:49:05.410553Z",
     "iopub.status.busy": "2021-05-14T14:49:05.409955Z",
     "iopub.status.idle": "2021-05-14T14:49:05.412254Z",
     "shell.execute_reply": "2021-05-14T14:49:05.412729Z"
    },
    "papermill": {
     "duration": 0.029404,
     "end_time": "2021-05-14T14:49:05.412961",
     "exception": false,
     "start_time": "2021-05-14T14:49:05.383557",
     "status": "completed"
    },
    "tags": []
   },
   "outputs": [],
   "source": [
    "dftest.drop('Loan_ID', inplace=True, axis = 1)"
   ]
  },
  {
   "cell_type": "code",
   "execution_count": 13,
   "id": "precious-newspaper",
   "metadata": {
    "execution": {
     "iopub.execute_input": "2021-05-14T14:49:05.463186Z",
     "iopub.status.busy": "2021-05-14T14:49:05.462515Z",
     "iopub.status.idle": "2021-05-14T14:49:05.466591Z",
     "shell.execute_reply": "2021-05-14T14:49:05.467057Z"
    },
    "papermill": {
     "duration": 0.033138,
     "end_time": "2021-05-14T14:49:05.467226",
     "exception": false,
     "start_time": "2021-05-14T14:49:05.434088",
     "status": "completed"
    },
    "tags": []
   },
   "outputs": [
    {
     "data": {
      "text/plain": [
       "Gender               0\n",
       "Married              0\n",
       "Dependents           0\n",
       "Education            0\n",
       "Self_Employed        0\n",
       "ApplicantIncome      0\n",
       "CoapplicantIncome    0\n",
       "LoanAmount           0\n",
       "Loan_Amount_Term     0\n",
       "Credit_History       0\n",
       "Property_Area        0\n",
       "Loan_Status          0\n",
       "dtype: int64"
      ]
     },
     "execution_count": 13,
     "metadata": {},
     "output_type": "execute_result"
    }
   ],
   "source": [
    "dftrain.isnull().sum()"
   ]
  },
  {
   "cell_type": "code",
   "execution_count": 14,
   "id": "experimental-latitude",
   "metadata": {
    "execution": {
     "iopub.execute_input": "2021-05-14T14:49:05.518185Z",
     "iopub.status.busy": "2021-05-14T14:49:05.517499Z",
     "iopub.status.idle": "2021-05-14T14:49:05.521407Z",
     "shell.execute_reply": "2021-05-14T14:49:05.521908Z"
    },
    "papermill": {
     "duration": 0.033422,
     "end_time": "2021-05-14T14:49:05.522077",
     "exception": false,
     "start_time": "2021-05-14T14:49:05.488655",
     "status": "completed"
    },
    "tags": []
   },
   "outputs": [
    {
     "data": {
      "text/plain": [
       "Gender               0\n",
       "Married              0\n",
       "Dependents           0\n",
       "Education            0\n",
       "Self_Employed        0\n",
       "ApplicantIncome      0\n",
       "CoapplicantIncome    0\n",
       "LoanAmount           0\n",
       "Loan_Amount_Term     0\n",
       "Credit_History       0\n",
       "Property_Area        0\n",
       "dtype: int64"
      ]
     },
     "execution_count": 14,
     "metadata": {},
     "output_type": "execute_result"
    }
   ],
   "source": [
    "dftest.isnull().sum()"
   ]
  },
  {
   "cell_type": "code",
   "execution_count": 15,
   "id": "asian-dispatch",
   "metadata": {
    "execution": {
     "iopub.execute_input": "2021-05-14T14:49:05.582707Z",
     "iopub.status.busy": "2021-05-14T14:49:05.581218Z",
     "iopub.status.idle": "2021-05-14T14:49:05.585470Z",
     "shell.execute_reply": "2021-05-14T14:49:05.584751Z"
    },
    "papermill": {
     "duration": 0.040917,
     "end_time": "2021-05-14T14:49:05.585604",
     "exception": false,
     "start_time": "2021-05-14T14:49:05.544687",
     "status": "completed"
    },
    "tags": []
   },
   "outputs": [],
   "source": [
    "dftrain.Gender = dftrain.Gender.map({'Male':1, 'Female':0})\n",
    "dftrain.Married = dftrain.Married.map({'Yes':1, 'No':0})\n",
    "dftrain.Education = dftrain.Education.map({'Graduate':1, 'Not Graduate':0})\n",
    "dftrain.Self_Employed = dftrain.Self_Employed.map({'Yes':1, 'No':0})\n",
    "dftrain.Dependents = dftrain.Dependents.map({'0':0, '1':1, '2':2, '3+':3})\n",
    "dftrain.Property_Area = dftrain.Property_Area.map({'Urban':1, 'Rural':0, 'Semiurban':2})\n",
    "dftrain.Loan_Status = dftrain.Loan_Status.map({'Y':1, 'N':0})"
   ]
  },
  {
   "cell_type": "code",
   "execution_count": 16,
   "id": "regular-scheduling",
   "metadata": {
    "execution": {
     "iopub.execute_input": "2021-05-14T14:49:05.651829Z",
     "iopub.status.busy": "2021-05-14T14:49:05.650830Z",
     "iopub.status.idle": "2021-05-14T14:49:05.654059Z",
     "shell.execute_reply": "2021-05-14T14:49:05.654760Z"
    },
    "papermill": {
     "duration": 0.047093,
     "end_time": "2021-05-14T14:49:05.655033",
     "exception": false,
     "start_time": "2021-05-14T14:49:05.607940",
     "status": "completed"
    },
    "tags": []
   },
   "outputs": [],
   "source": [
    "\n",
    "\n",
    "dftest.Gender = dftest.Gender.map({'Male':1, 'Female':0})\n",
    "dftest.Married = dftest.Married.map({'Yes':1, 'No':0})\n",
    "dftest.Education = dftest.Education.map({'Graduate':1, 'Not Graduate':0})\n",
    "dftest.Self_Employed = dftest.Self_Employed.map({'Yes':1, 'No':0})\n",
    "dftest.Dependents = dftest.Dependents.map({'0':0, '1':1, '2':2, '3+':3})\n",
    "dftest.Property_Area = dftest.Property_Area.map({'Urban':1, 'Rural':0, 'Semiurban':2})\n",
    "\n"
   ]
  },
  {
   "cell_type": "code",
   "execution_count": 17,
   "id": "reliable-scheduling",
   "metadata": {
    "execution": {
     "iopub.execute_input": "2021-05-14T14:49:05.724244Z",
     "iopub.status.busy": "2021-05-14T14:49:05.723307Z",
     "iopub.status.idle": "2021-05-14T14:49:06.497170Z",
     "shell.execute_reply": "2021-05-14T14:49:06.496598Z"
    },
    "papermill": {
     "duration": 0.810932,
     "end_time": "2021-05-14T14:49:06.497326",
     "exception": false,
     "start_time": "2021-05-14T14:49:05.686394",
     "status": "completed"
    },
    "tags": []
   },
   "outputs": [],
   "source": [
    "import matplotlib.pyplot as plt \n",
    "import seaborn as sns "
   ]
  },
  {
   "cell_type": "code",
   "execution_count": 18,
   "id": "every-gravity",
   "metadata": {
    "execution": {
     "iopub.execute_input": "2021-05-14T14:49:06.566267Z",
     "iopub.status.busy": "2021-05-14T14:49:06.557507Z",
     "iopub.status.idle": "2021-05-14T14:49:07.400027Z",
     "shell.execute_reply": "2021-05-14T14:49:07.399373Z"
    },
    "papermill": {
     "duration": 0.880236,
     "end_time": "2021-05-14T14:49:07.400164",
     "exception": false,
     "start_time": "2021-05-14T14:49:06.519928",
     "status": "completed"
    },
    "tags": []
   },
   "outputs": [
    {
     "name": "stderr",
     "output_type": "stream",
     "text": [
      "/opt/conda/lib/python3.7/site-packages/seaborn/_decorators.py:43: FutureWarning: Pass the following variable as a keyword arg: x. From version 0.12, the only valid positional argument will be `data`, and passing other arguments without an explicit keyword will result in an error or misinterpretation.\n",
      "  FutureWarning\n",
      "/opt/conda/lib/python3.7/site-packages/seaborn/_decorators.py:43: FutureWarning: Pass the following variable as a keyword arg: x. From version 0.12, the only valid positional argument will be `data`, and passing other arguments without an explicit keyword will result in an error or misinterpretation.\n",
      "  FutureWarning\n",
      "/opt/conda/lib/python3.7/site-packages/seaborn/_decorators.py:43: FutureWarning: Pass the following variable as a keyword arg: x. From version 0.12, the only valid positional argument will be `data`, and passing other arguments without an explicit keyword will result in an error or misinterpretation.\n",
      "  FutureWarning\n",
      "/opt/conda/lib/python3.7/site-packages/seaborn/_decorators.py:43: FutureWarning: Pass the following variable as a keyword arg: x. From version 0.12, the only valid positional argument will be `data`, and passing other arguments without an explicit keyword will result in an error or misinterpretation.\n",
      "  FutureWarning\n",
      "/opt/conda/lib/python3.7/site-packages/seaborn/_decorators.py:43: FutureWarning: Pass the following variable as a keyword arg: x. From version 0.12, the only valid positional argument will be `data`, and passing other arguments without an explicit keyword will result in an error or misinterpretation.\n",
      "  FutureWarning\n",
      "/opt/conda/lib/python3.7/site-packages/seaborn/_decorators.py:43: FutureWarning: Pass the following variable as a keyword arg: x. From version 0.12, the only valid positional argument will be `data`, and passing other arguments without an explicit keyword will result in an error or misinterpretation.\n",
      "  FutureWarning\n"
     ]
    },
    {
     "data": {
      "text/plain": [
       "<AxesSubplot:xlabel='Property_Area', ylabel='count'>"
      ]
     },
     "execution_count": 18,
     "metadata": {},
     "output_type": "execute_result"
    },
    {
     "data": {
      "image/png": "[encoded data removed]",
      "text/plain": [
       "<Figure size 1440x720 with 6 Axes>"
      ]
     },
     "metadata": {
      "needs_background": "light"
     },
     "output_type": "display_data"
    }
   ],
   "source": [
    "fig, axes = plt.subplots(2, 3, figsize=(20,10))\n",
    "\n",
    "fig.suptitle('Each Column Value Counts')\n",
    "\n",
    "sns.countplot(dftrain['Gender'], hue = dftrain['Loan_Status'], ax=axes[0, 0], palette='rainbow')\n",
    "sns.countplot(dftrain['Married'], hue = dftrain['Loan_Status'], ax=axes[0, 1], palette='rainbow')\n",
    "sns.countplot(dftrain['Education'], hue = dftrain['Loan_Status'], ax=axes[0, 2], palette='rainbow')\n",
    "sns.countplot(dftrain['Self_Employed'], hue = dftrain['Loan_Status'], ax=axes[1, 0], palette='rainbow')\n",
    "sns.countplot(dftrain['Dependents'], hue = dftrain['Loan_Status'], ax=axes[1, 1], palette='rainbow')\n",
    "sns.countplot(dftrain['Property_Area'], hue = dftrain['Loan_Status'], ax=axes[1, 2], palette='rainbow')"
   ]
  },
  {
   "cell_type": "code",
   "execution_count": 19,
   "id": "unauthorized-excellence",
   "metadata": {
    "execution": {
     "iopub.execute_input": "2021-05-14T14:49:07.454540Z",
     "iopub.status.busy": "2021-05-14T14:49:07.453873Z",
     "iopub.status.idle": "2021-05-14T14:49:07.934053Z",
     "shell.execute_reply": "2021-05-14T14:49:07.933384Z"
    },
    "papermill": {
     "duration": 0.509168,
     "end_time": "2021-05-14T14:49:07.934187",
     "exception": false,
     "start_time": "2021-05-14T14:49:07.425019",
     "status": "completed"
    },
    "tags": []
   },
   "outputs": [],
   "source": [
    "from sklearn.model_selection import train_test_split\n",
    "from sklearn.ensemble import RandomForestClassifier\n",
    "from sklearn.metrics import confusion_matrix\n",
    "from sklearn.metrics import classification_report\n",
    "from sklearn.metrics import accuracy_score"
   ]
  },
  {
   "cell_type": "code",
   "execution_count": 20,
   "id": "adjusted-morris",
   "metadata": {
    "execution": {
     "iopub.execute_input": "2021-05-14T14:49:07.992224Z",
     "iopub.status.busy": "2021-05-14T14:49:07.989423Z",
     "iopub.status.idle": "2021-05-14T14:49:07.995887Z",
     "shell.execute_reply": "2021-05-14T14:49:07.995301Z"
    },
    "papermill": {
     "duration": 0.037079,
     "end_time": "2021-05-14T14:49:07.996032",
     "exception": false,
     "start_time": "2021-05-14T14:49:07.958953",
     "status": "completed"
    },
    "tags": []
   },
   "outputs": [],
   "source": [
    "\n",
    "\n",
    "target= dftrain.drop('Loan_Status', axis = 1)\n",
    "data= dftrain['Loan_Status']\n",
    "\n",
    "x_train, x_test, y_train, y_test = train_test_split(target, data, test_size = 0.3, random_state = 0)\n",
    "\n"
   ]
  },
  {
   "cell_type": "code",
   "execution_count": 21,
   "id": "acute-contribution",
   "metadata": {
    "execution": {
     "iopub.execute_input": "2021-05-14T14:49:08.051254Z",
     "iopub.status.busy": "2021-05-14T14:49:08.050362Z",
     "iopub.status.idle": "2021-05-14T14:49:08.281691Z",
     "shell.execute_reply": "2021-05-14T14:49:08.281016Z"
    },
    "papermill": {
     "duration": 0.261155,
     "end_time": "2021-05-14T14:49:08.281828",
     "exception": false,
     "start_time": "2021-05-14T14:49:08.020673",
     "status": "completed"
    },
    "tags": []
   },
   "outputs": [
    {
     "name": "stdout",
     "output_type": "stream",
     "text": [
      "              precision    recall  f1-score   support\n",
      "\n",
      "           0       0.95      0.40      0.57        47\n",
      "           1       0.80      0.99      0.89       116\n",
      "\n",
      "    accuracy                           0.82       163\n",
      "   macro avg       0.88      0.70      0.73       163\n",
      "weighted avg       0.85      0.82      0.80       163\n",
      "\n",
      "Accurate 82.21%\n"
     ]
    }
   ],
   "source": [
    "RF = RandomForestClassifier()\n",
    "RF.fit(x_train, y_train)\n",
    "\n",
    "y_predict = RF.predict(x_test)\n",
    "\n",
    "\n",
    "#Classification Report\n",
    "print(classification_report(y_test, y_predict))\n",
    "\n",
    "# Accuracy score\n",
    "RF_score = accuracy_score(y_predict,y_test)\n",
    "print(f\"Accurate {round(RF_score*100,2)}%\")"
   ]
  },
  {
   "cell_type": "code",
   "execution_count": 22,
   "id": "urban-morrison",
   "metadata": {
    "execution": {
     "iopub.execute_input": "2021-05-14T14:49:08.342959Z",
     "iopub.status.busy": "2021-05-14T14:49:08.342327Z",
     "iopub.status.idle": "2021-05-14T14:49:08.346849Z",
     "shell.execute_reply": "2021-05-14T14:49:08.346314Z"
    },
    "papermill": {
     "duration": 0.040085,
     "end_time": "2021-05-14T14:49:08.347005",
     "exception": false,
     "start_time": "2021-05-14T14:49:08.306920",
     "status": "completed"
    },
    "tags": []
   },
   "outputs": [
    {
     "data": {
      "text/html": [
       "<div>\n",
       "<style scoped>\n",
       "    .dataframe tbody tr th:only-of-type {\n",
       "        vertical-align: middle;\n",
       "    }\n",
       "\n",
       "    .dataframe tbody tr th {\n",
       "        vertical-align: top;\n",
       "    }\n",
       "\n",
       "    .dataframe thead th {\n",
       "        text-align: right;\n",
       "    }\n",
       "</style>\n",
       "<table border=\"1\" class=\"dataframe\">\n",
       "  <thead>\n",
       "    <tr style=\"text-align: right;\">\n",
       "      <th></th>\n",
       "      <th>y_test</th>\n",
       "      <th>prediction</th>\n",
       "    </tr>\n",
       "  </thead>\n",
       "  <tbody>\n",
       "    <tr>\n",
       "      <th>433</th>\n",
       "      <td>1</td>\n",
       "      <td>1</td>\n",
       "    </tr>\n",
       "    <tr>\n",
       "      <th>178</th>\n",
       "      <td>1</td>\n",
       "      <td>1</td>\n",
       "    </tr>\n",
       "    <tr>\n",
       "      <th>151</th>\n",
       "      <td>1</td>\n",
       "      <td>1</td>\n",
       "    </tr>\n",
       "    <tr>\n",
       "      <th>518</th>\n",
       "      <td>0</td>\n",
       "      <td>1</td>\n",
       "    </tr>\n",
       "    <tr>\n",
       "      <th>101</th>\n",
       "      <td>1</td>\n",
       "      <td>1</td>\n",
       "    </tr>\n",
       "    <tr>\n",
       "      <th>...</th>\n",
       "      <td>...</td>\n",
       "      <td>...</td>\n",
       "    </tr>\n",
       "    <tr>\n",
       "      <th>585</th>\n",
       "      <td>0</td>\n",
       "      <td>1</td>\n",
       "    </tr>\n",
       "    <tr>\n",
       "      <th>200</th>\n",
       "      <td>1</td>\n",
       "      <td>1</td>\n",
       "    </tr>\n",
       "    <tr>\n",
       "      <th>404</th>\n",
       "      <td>0</td>\n",
       "      <td>1</td>\n",
       "    </tr>\n",
       "    <tr>\n",
       "      <th>484</th>\n",
       "      <td>1</td>\n",
       "      <td>1</td>\n",
       "    </tr>\n",
       "    <tr>\n",
       "      <th>304</th>\n",
       "      <td>1</td>\n",
       "      <td>1</td>\n",
       "    </tr>\n",
       "  </tbody>\n",
       "</table>\n",
       "<p>163 rows × 2 columns</p>\n",
       "</div>"
      ],
      "text/plain": [
       "     y_test  prediction\n",
       "433       1           1\n",
       "178       1           1\n",
       "151       1           1\n",
       "518       0           1\n",
       "101       1           1\n",
       "..      ...         ...\n",
       "585       0           1\n",
       "200       1           1\n",
       "404       0           1\n",
       "484       1           1\n",
       "304       1           1\n",
       "\n",
       "[163 rows x 2 columns]"
      ]
     },
     "execution_count": 22,
     "metadata": {},
     "output_type": "execute_result"
    }
   ],
   "source": [
    "\n",
    "\n",
    "Loan_Status_Validation=pd.DataFrame({'y_test':y_test,'prediction':y_predict})\n",
    "Loan_Status_Validation\n",
    "\n"
   ]
  },
  {
   "cell_type": "code",
   "execution_count": 23,
   "id": "considerable-laser",
   "metadata": {
    "execution": {
     "iopub.execute_input": "2021-05-14T14:49:08.405811Z",
     "iopub.status.busy": "2021-05-14T14:49:08.405226Z",
     "iopub.status.idle": "2021-05-14T14:49:08.424437Z",
     "shell.execute_reply": "2021-05-14T14:49:08.423795Z"
    },
    "papermill": {
     "duration": 0.051405,
     "end_time": "2021-05-14T14:49:08.424580",
     "exception": false,
     "start_time": "2021-05-14T14:49:08.373175",
     "status": "completed"
    },
    "tags": []
   },
   "outputs": [],
   "source": [
    "\n",
    "\n",
    "y_test_predict = RF.predict(dftest)\n",
    "\n"
   ]
  },
  {
   "cell_type": "code",
   "execution_count": 24,
   "id": "unsigned-andorra",
   "metadata": {
    "execution": {
     "iopub.execute_input": "2021-05-14T14:49:08.479657Z",
     "iopub.status.busy": "2021-05-14T14:49:08.479080Z",
     "iopub.status.idle": "2021-05-14T14:49:08.489988Z",
     "shell.execute_reply": "2021-05-14T14:49:08.489422Z"
    },
    "papermill": {
     "duration": 0.039526,
     "end_time": "2021-05-14T14:49:08.490123",
     "exception": false,
     "start_time": "2021-05-14T14:49:08.450597",
     "status": "completed"
    },
    "tags": []
   },
   "outputs": [
    {
     "data": {
      "text/html": [
       "<div>\n",
       "<style scoped>\n",
       "    .dataframe tbody tr th:only-of-type {\n",
       "        vertical-align: middle;\n",
       "    }\n",
       "\n",
       "    .dataframe tbody tr th {\n",
       "        vertical-align: top;\n",
       "    }\n",
       "\n",
       "    .dataframe thead th {\n",
       "        text-align: right;\n",
       "    }\n",
       "</style>\n",
       "<table border=\"1\" class=\"dataframe\">\n",
       "  <thead>\n",
       "    <tr style=\"text-align: right;\">\n",
       "      <th></th>\n",
       "      <th>y_test_predict</th>\n",
       "    </tr>\n",
       "  </thead>\n",
       "  <tbody>\n",
       "    <tr>\n",
       "      <th>0</th>\n",
       "      <td>1</td>\n",
       "    </tr>\n",
       "    <tr>\n",
       "      <th>1</th>\n",
       "      <td>1</td>\n",
       "    </tr>\n",
       "    <tr>\n",
       "      <th>2</th>\n",
       "      <td>1</td>\n",
       "    </tr>\n",
       "    <tr>\n",
       "      <th>3</th>\n",
       "      <td>1</td>\n",
       "    </tr>\n",
       "    <tr>\n",
       "      <th>4</th>\n",
       "      <td>1</td>\n",
       "    </tr>\n",
       "    <tr>\n",
       "      <th>...</th>\n",
       "      <td>...</td>\n",
       "    </tr>\n",
       "    <tr>\n",
       "      <th>284</th>\n",
       "      <td>1</td>\n",
       "    </tr>\n",
       "    <tr>\n",
       "      <th>285</th>\n",
       "      <td>1</td>\n",
       "    </tr>\n",
       "    <tr>\n",
       "      <th>286</th>\n",
       "      <td>1</td>\n",
       "    </tr>\n",
       "    <tr>\n",
       "      <th>287</th>\n",
       "      <td>1</td>\n",
       "    </tr>\n",
       "    <tr>\n",
       "      <th>288</th>\n",
       "      <td>0</td>\n",
       "    </tr>\n",
       "  </tbody>\n",
       "</table>\n",
       "<p>289 rows × 1 columns</p>\n",
       "</div>"
      ],
      "text/plain": [
       "     y_test_predict\n",
       "0                 1\n",
       "1                 1\n",
       "2                 1\n",
       "3                 1\n",
       "4                 1\n",
       "..              ...\n",
       "284               1\n",
       "285               1\n",
       "286               1\n",
       "287               1\n",
       "288               0\n",
       "\n",
       "[289 rows x 1 columns]"
      ]
     },
     "execution_count": 24,
     "metadata": {},
     "output_type": "execute_result"
    }
   ],
   "source": [
    "\n",
    "\n",
    "Loan_Status_Prediction=pd.DataFrame({'y_test_predict':y_test_predict})\n",
    "Loan_Status_Prediction\n",
    "\n"
   ]
  },
  {
   "cell_type": "markdown",
   "id": "buried-mortgage",
   "metadata": {
    "papermill": {
     "duration": 0.026439,
     "end_time": "2021-05-14T14:49:08.543237",
     "exception": false,
     "start_time": "2021-05-14T14:49:08.516798",
     "status": "completed"
    },
    "tags": []
   },
   "source": [
    "Completed "
   ]
  },
  {
   "cell_type": "code",
   "execution_count": null,
   "id": "identical-concord",
   "metadata": {
    "papermill": {
     "duration": 0.026325,
     "end_time": "2021-05-14T14:49:08.597355",
     "exception": false,
     "start_time": "2021-05-14T14:49:08.571030",
     "status": "completed"
    },
    "tags": []
   },
   "outputs": [],
   "source": []
  }
 ],
 "metadata": {
  "kernelspec": {
   "display_name": "Python 3",
   "language": "python",
   "name": "python3"
  },
  "language_info": {
   "codemirror_mode": {
    "name": "ipython",
    "version": 3
   },
   "file_extension": ".py",
   "mimetype": "text/x-python",
   "name": "python",
   "nbconvert_exporter": "python",
   "pygments_lexer": "ipython3",
   "version": "3.7.10"
  },
  "papermill": {
   "default_parameters": {},
   "duration": 12.622837,
   "end_time": "2021-05-14T14:49:09.335734",
   "environment_variables": {},
   "exception": null,
   "input_path": "__notebook__.ipynb",
   "output_path": "__notebook__.ipynb",
   "parameters": {},
   "start_time": "2021-05-14T14:48:56.712897",
   "version": "2.3.3"
  }
 },
 "nbformat": 4,
 "nbformat_minor": 5
}
